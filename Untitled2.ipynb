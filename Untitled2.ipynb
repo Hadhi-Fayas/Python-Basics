{
  "nbformat": 4,
  "nbformat_minor": 0,
  "metadata": {
    "colab": {
      "provenance": [],
      "authorship_tag": "ABX9TyPUYgRvi3vwopceK8b8fhbG",
      "include_colab_link": true
    },
    "kernelspec": {
      "name": "python3",
      "display_name": "Python 3"
    },
    "language_info": {
      "name": "python"
    }
  },
  "cells": [
    {
      "cell_type": "markdown",
      "metadata": {
        "id": "view-in-github",
        "colab_type": "text"
      },
      "source": [
        "<a href=\"https://colab.research.google.com/github/Hadhi-Fayas/Python-Basics/blob/main/Untitled2.ipynb\" target=\"_parent\"><img src=\"https://colab.research.google.com/assets/colab-badge.svg\" alt=\"Open In Colab\"/></a>"
      ]
    },
    {
      "cell_type": "code",
      "execution_count": 1,
      "metadata": {
        "colab": {
          "base_uri": "https://localhost:8080/",
          "height": 0
        },
        "id": "tYvBdgjN3-6t",
        "outputId": "fc9e5c9a-90d9-4da6-aeee-29945bc027a3"
      },
      "outputs": [
        {
          "output_type": "stream",
          "name": "stdout",
          "text": [
            "0\n",
            "1\n",
            "2\n",
            "3\n",
            "4\n",
            "5\n",
            "6\n",
            "7\n",
            "8\n",
            "9\n"
          ]
        }
      ],
      "source": [
        "for hadhi in range (10):\n",
        "  print(hadhi)"
      ]
    },
    {
      "cell_type": "code",
      "source": [
        "y=0\n",
        "x=0\n",
        "for x in range (10):\n",
        "  y=y+x\n",
        "  print(y)\n"
      ],
      "metadata": {
        "colab": {
          "base_uri": "https://localhost:8080/",
          "height": 0
        },
        "id": "H1ZRXwOF81gv",
        "outputId": "75b3b35d-b34e-4658-d342-81c2031f9da4"
      },
      "execution_count": 15,
      "outputs": [
        {
          "output_type": "stream",
          "name": "stdout",
          "text": [
            "0\n",
            "1\n",
            "3\n",
            "6\n",
            "10\n",
            "15\n",
            "21\n",
            "28\n",
            "36\n",
            "45\n"
          ]
        }
      ]
    },
    {
      "cell_type": "code",
      "source": [
        "y=1\n",
        "for x in range (1,10):\n",
        "  y=y*x\n",
        "  print(y)"
      ],
      "metadata": {
        "colab": {
          "base_uri": "https://localhost:8080/",
          "height": 0
        },
        "id": "Pmf8W7yr9ZS3",
        "outputId": "3ece1825-1c2a-4051-d458-46974cdba15f"
      },
      "execution_count": 14,
      "outputs": [
        {
          "output_type": "stream",
          "name": "stdout",
          "text": [
            "1\n",
            "2\n",
            "6\n",
            "24\n",
            "120\n",
            "720\n",
            "5040\n",
            "40320\n",
            "362880\n"
          ]
        }
      ]
    },
    {
      "cell_type": "code",
      "source": [
        "from re import X\n",
        "y=0\n",
        "x=0\n",
        "for x in range (100):\n",
        "  y=y+x\n",
        "  print(y)"
      ],
      "metadata": {
        "colab": {
          "base_uri": "https://localhost:8080/",
          "height": 0
        },
        "id": "arYXlg8B9r2O",
        "outputId": "f5f5a44c-2a20-49c6-c887-460305886789"
      },
      "execution_count": 16,
      "outputs": [
        {
          "output_type": "stream",
          "name": "stdout",
          "text": [
            "0\n",
            "1\n",
            "3\n",
            "6\n",
            "10\n",
            "15\n",
            "21\n",
            "28\n",
            "36\n",
            "45\n",
            "55\n",
            "66\n",
            "78\n",
            "91\n",
            "105\n",
            "120\n",
            "136\n",
            "153\n",
            "171\n",
            "190\n",
            "210\n",
            "231\n",
            "253\n",
            "276\n",
            "300\n",
            "325\n",
            "351\n",
            "378\n",
            "406\n",
            "435\n",
            "465\n",
            "496\n",
            "528\n",
            "561\n",
            "595\n",
            "630\n",
            "666\n",
            "703\n",
            "741\n",
            "780\n",
            "820\n",
            "861\n",
            "903\n",
            "946\n",
            "990\n",
            "1035\n",
            "1081\n",
            "1128\n",
            "1176\n",
            "1225\n",
            "1275\n",
            "1326\n",
            "1378\n",
            "1431\n",
            "1485\n",
            "1540\n",
            "1596\n",
            "1653\n",
            "1711\n",
            "1770\n",
            "1830\n",
            "1891\n",
            "1953\n",
            "2016\n",
            "2080\n",
            "2145\n",
            "2211\n",
            "2278\n",
            "2346\n",
            "2415\n",
            "2485\n",
            "2556\n",
            "2628\n",
            "2701\n",
            "2775\n",
            "2850\n",
            "2926\n",
            "3003\n",
            "3081\n",
            "3160\n",
            "3240\n",
            "3321\n",
            "3403\n",
            "3486\n",
            "3570\n",
            "3655\n",
            "3741\n",
            "3828\n",
            "3916\n",
            "4005\n",
            "4095\n",
            "4186\n",
            "4278\n",
            "4371\n",
            "4465\n",
            "4560\n",
            "4656\n",
            "4753\n",
            "4851\n",
            "4950\n"
          ]
        }
      ]
    },
    {
      "cell_type": "code",
      "source": [
        "10%2"
      ],
      "metadata": {
        "colab": {
          "base_uri": "https://localhost:8080/",
          "height": 0
        },
        "id": "qvsv2vs5-ll_",
        "outputId": "b04f489c-eafb-4bdc-c007-d3152a908256"
      },
      "execution_count": 17,
      "outputs": [
        {
          "output_type": "execute_result",
          "data": {
            "text/plain": [
              "0"
            ]
          },
          "metadata": {},
          "execution_count": 17
        }
      ]
    },
    {
      "cell_type": "code",
      "source": [
        "10%1"
      ],
      "metadata": {
        "colab": {
          "base_uri": "https://localhost:8080/",
          "height": 0
        },
        "id": "keSCMIJ9_Vhu",
        "outputId": "5f242cee-a193-4cf5-b019-9e770a51fe89"
      },
      "execution_count": 18,
      "outputs": [
        {
          "output_type": "execute_result",
          "data": {
            "text/plain": [
              "0"
            ]
          },
          "metadata": {},
          "execution_count": 18
        }
      ]
    },
    {
      "cell_type": "code",
      "source": [
        "14%2\n"
      ],
      "metadata": {
        "colab": {
          "base_uri": "https://localhost:8080/",
          "height": 0
        },
        "id": "bFwX8EaU_crn",
        "outputId": "7715b91c-0761-46b9-b642-1dba64578c5e"
      },
      "execution_count": 22,
      "outputs": [
        {
          "output_type": "execute_result",
          "data": {
            "text/plain": [
              "0"
            ]
          },
          "metadata": {},
          "execution_count": 22
        }
      ]
    },
    {
      "cell_type": "code",
      "source": [
        "a=33\n",
        "b=200\n",
        "if b > a:\n",
        "  print(\"b is greater than a\")"
      ],
      "metadata": {
        "colab": {
          "base_uri": "https://localhost:8080/",
          "height": 0
        },
        "id": "wus_IhV6BoVG",
        "outputId": "3b238232-ffc8-4eb3-aab6-b842e06de0ea"
      },
      "execution_count": 27,
      "outputs": [
        {
          "output_type": "stream",
          "name": "stdout",
          "text": [
            "b is greater than a\n"
          ]
        }
      ]
    },
    {
      "cell_type": "code",
      "source": [
        "a=33\n",
        "b=33\n",
        "if b > a:\n",
        "  print(\"b is greater than a\")\n",
        "elif a==b:\n",
        "  print(\"a and b are equal\")  \n"
      ],
      "metadata": {
        "colab": {
          "base_uri": "https://localhost:8080/",
          "height": 0
        },
        "id": "_CnN9QqTDAvO",
        "outputId": "ab9db129-81e3-44c1-a233-b5417e7bddf8"
      },
      "execution_count": 28,
      "outputs": [
        {
          "output_type": "stream",
          "name": "stdout",
          "text": [
            "a and b are equal\n"
          ]
        }
      ]
    },
    {
      "cell_type": "code",
      "source": [
        "a=200\n",
        "b=33\n",
        "if b > a:\n",
        "  print(\"b is greater than a\")\n",
        "elif a==b:\n",
        "  print(\"a and b arfe equal\")\n",
        "else:\n",
        "  print(\"a is greater than b\")\n"
      ],
      "metadata": {
        "id": "_mzk17fxDs7J",
        "outputId": "2a813ddc-818c-4486-b84d-959321705009",
        "colab": {
          "base_uri": "https://localhost:8080/",
          "height": 0
        }
      },
      "execution_count": 29,
      "outputs": [
        {
          "output_type": "stream",
          "name": "stdout",
          "text": [
            "a is greater than b\n"
          ]
        }
      ]
    },
    {
      "cell_type": "code",
      "source": [
        "a=100\n",
        "b=33\n",
        "if b > a:\n",
        "  print(\"b is greater than a\")\n",
        "else:\n",
        "  print(\"b is not greater than a\")\n"
      ],
      "metadata": {
        "id": "hswBxC9AEWXo",
        "outputId": "0708a448-beeb-4577-c3fc-f132f560fa34",
        "colab": {
          "base_uri": "https://localhost:8080/",
          "height": 0
        }
      },
      "execution_count": 31,
      "outputs": [
        {
          "output_type": "stream",
          "name": "stdout",
          "text": [
            "b is not greater than a\n"
          ]
        }
      ]
    },
    {
      "cell_type": "code",
      "source": [
        "if a > b: print (\"a is greater than b\")"
      ],
      "metadata": {
        "id": "K4Y7IPypE1Cl",
        "outputId": "30f0ea32-29b0-40a7-95a9-6bc2b5bc74d6",
        "colab": {
          "base_uri": "https://localhost:8080/",
          "height": 0
        }
      },
      "execution_count": 32,
      "outputs": [
        {
          "output_type": "stream",
          "name": "stdout",
          "text": [
            "a is greater than b\n"
          ]
        }
      ]
    },
    {
      "cell_type": "code",
      "source": [
        "a=2\n",
        "b=330\n",
        "print(\"A\") if a > b else print (\"B\")"
      ],
      "metadata": {
        "id": "SWgzFy2oFJWY",
        "outputId": "62810ee6-7642-4559-8986-cb5e5695cc7e",
        "colab": {
          "base_uri": "https://localhost:8080/",
          "height": 0
        }
      },
      "execution_count": 33,
      "outputs": [
        {
          "output_type": "stream",
          "name": "stdout",
          "text": [
            "B\n"
          ]
        }
      ]
    },
    {
      "cell_type": "code",
      "source": [
        "a=330\n",
        "b=330\n",
        "print (\"A\") if a > b else print (\"=\") if a==b else print (\"B\")"
      ],
      "metadata": {
        "id": "aHzchCmnFesQ",
        "outputId": "e0fe6bdb-afb3-47ed-a1b1-85d2c2823b22",
        "colab": {
          "base_uri": "https://localhost:8080/",
          "height": 0
        }
      },
      "execution_count": 34,
      "outputs": [
        {
          "output_type": "stream",
          "name": "stdout",
          "text": [
            "=\n"
          ]
        }
      ]
    },
    {
      "cell_type": "code",
      "source": [
        "a=200\n",
        "b=33 \n",
        "c=500\n",
        "if a > b and c > a:\n",
        "  print(\"both condtions are true\")"
      ],
      "metadata": {
        "id": "u3HkTMZkGPBC",
        "outputId": "b3b1777f-400d-483e-e270-26feab6bd95d",
        "colab": {
          "base_uri": "https://localhost:8080/",
          "height": 0
        }
      },
      "execution_count": 35,
      "outputs": [
        {
          "output_type": "stream",
          "name": "stdout",
          "text": [
            "both condtions are true\n"
          ]
        }
      ]
    },
    {
      "cell_type": "code",
      "source": [
        "a=200\n",
        "b=33\n",
        "c=500\n",
        "if a > b or a > c:\n",
        "  print(\"one of the condtions is true\")\n"
      ],
      "metadata": {
        "id": "c-qZ12xIGnVB",
        "outputId": "89511b00-eae8-4da0-ddaf-ca312bbfdfc2",
        "colab": {
          "base_uri": "https://localhost:8080/",
          "height": 0
        }
      },
      "execution_count": 37,
      "outputs": [
        {
          "output_type": "stream",
          "name": "stdout",
          "text": [
            "one of the condtions is true\n"
          ]
        }
      ]
    },
    {
      "cell_type": "code",
      "source": [
        "a=33\n",
        "b=200\n",
        "if not a > b:\n",
        "  print(\"a is NOT greater than b\")"
      ],
      "metadata": {
        "id": "mkTKdF4RG67o",
        "outputId": "e268d392-9afc-4976-b846-3b29ee9814ce",
        "colab": {
          "base_uri": "https://localhost:8080/",
          "height": 0
        }
      },
      "execution_count": 38,
      "outputs": [
        {
          "output_type": "stream",
          "name": "stdout",
          "text": [
            "a is NOT greater than b\n"
          ]
        }
      ]
    },
    {
      "cell_type": "code",
      "source": [
        "x = 41\n",
        "if x > 10:\n",
        "  print(\"Above ten,\")\n",
        "  if x > 20:\n",
        "    print(\"and also above 20!\")\n",
        "  else:\n",
        "    print(\"but not above 20.\")"
      ],
      "metadata": {
        "colab": {
          "base_uri": "https://localhost:8080/"
        },
        "id": "u8oaj_FgHZ9x",
        "outputId": "57e1a2d1-8c54-4915-a1d3-34e74e335177"
      },
      "execution_count": 39,
      "outputs": [
        {
          "output_type": "stream",
          "name": "stdout",
          "text": [
            "Above ten,\n",
            "and also above 20!\n"
          ]
        }
      ]
    },
    {
      "cell_type": "code",
      "source": [
        "a = 33\n",
        "b = 200\n",
        "if b > a:\n",
        "  (\"pass\")"
      ],
      "metadata": {
        "id": "-wZrwhWUH2zx"
      },
      "execution_count": 42,
      "outputs": []
    },
    {
      "cell_type": "code",
      "source": [
        "x=0\n",
        "y=0\n",
        "for x in range (100):\n",
        "  if x%2==0:\n",
        "    y=y+x\n",
        "    print(y)\n",
        "\n"
      ],
      "metadata": {
        "id": "0PnYqoaVH8VZ",
        "outputId": "ffaccf56-19b7-4cad-cbbf-26b825ff5a26",
        "colab": {
          "base_uri": "https://localhost:8080/"
        }
      },
      "execution_count": 44,
      "outputs": [
        {
          "output_type": "stream",
          "name": "stdout",
          "text": [
            "0\n",
            "2\n",
            "6\n",
            "12\n",
            "20\n",
            "30\n",
            "42\n",
            "56\n",
            "72\n",
            "90\n",
            "110\n",
            "132\n",
            "156\n",
            "182\n",
            "210\n",
            "240\n",
            "272\n",
            "306\n",
            "342\n",
            "380\n",
            "420\n",
            "462\n",
            "506\n",
            "552\n",
            "600\n",
            "650\n",
            "702\n",
            "756\n",
            "812\n",
            "870\n",
            "930\n",
            "992\n",
            "1056\n",
            "1122\n",
            "1190\n",
            "1260\n",
            "1332\n",
            "1406\n",
            "1482\n",
            "1560\n",
            "1640\n",
            "1722\n",
            "1806\n",
            "1892\n",
            "1980\n",
            "2070\n",
            "2162\n",
            "2256\n",
            "2352\n",
            "2450\n"
          ]
        }
      ]
    },
    {
      "cell_type": "code",
      "source": [
        "x=1\n",
        "y=1\n",
        "for x in range (100):\n",
        "  if x%2==1:\n",
        "    y=y*x\n",
        "    print(y)\n"
      ],
      "metadata": {
        "id": "21orkjj8OC1b",
        "outputId": "75bf533d-55bf-4ecc-ed0d-945c19223a48",
        "colab": {
          "base_uri": "https://localhost:8080/"
        }
      },
      "execution_count": 46,
      "outputs": [
        {
          "output_type": "stream",
          "name": "stdout",
          "text": [
            "1\n",
            "3\n",
            "15\n",
            "105\n",
            "945\n",
            "10395\n",
            "135135\n",
            "2027025\n",
            "34459425\n",
            "654729075\n",
            "13749310575\n",
            "316234143225\n",
            "7905853580625\n",
            "213458046676875\n",
            "6190283353629375\n",
            "191898783962510625\n",
            "6332659870762850625\n",
            "221643095476699771875\n",
            "8200794532637891559375\n",
            "319830986772877770815625\n",
            "13113070457687988603440625\n",
            "563862029680583509947946875\n",
            "25373791335626257947657609375\n",
            "1192568192774434123539907640625\n",
            "58435841445947272053455474390625\n",
            "2980227913743310874726229193921875\n",
            "157952079428395476360490147277859375\n",
            "8687364368561751199826958100282265625\n",
            "495179769008019818390136611716089140625\n",
            "29215606371473169285018060091249259296875\n",
            "1782151988659863326386101665566204817109375\n",
            "112275575285571389562324404930670903477890625\n",
            "7297912393562140321551086320493608726062890625\n",
            "488960130368663401543922783473071784646213671875\n",
            "33738248995437774706530672059641953140588743359375\n",
            "2395415678676082004163677716234578672981800778515625\n",
            "174865344543353986303948473285124243127671456831640625\n",
            "13114900840751548972796135496384318234575359262373046875\n",
            "1009847364737869270905302433221592504062302663202724609375\n",
            "79777941814291672401518892224505807820921910393015244140625\n",
            "6462013286957625464523030270184970433494674741834234775390625\n",
            "536347102817482913555411512425352545980058003572241486357421875\n",
            "45589503739486047652209978556154966408304930303640526340380859375\n",
            "3966286825335286145742268134385482077522528936416725791613134765625\n",
            "352999527454840466971061863960307904899505075341088595453568994140625\n",
            "32122956998390482494366629620388019345854961856039062186274778466796875\n",
            "2987435000850314871976096554696085799164511452611632783323554397412109375\n",
            "283806325080779912837729172696128150920628587998105114415737667754150390625\n",
            "27529213532835651545259729751524430639300973035816196098326553772152587890625\n",
            "2725392139750729502980713245400918633290796330545803413734328823443106201171875\n"
          ]
        }
      ]
    },
    {
      "cell_type": "code",
      "source": [
        " x=[2,5,7,9,1,3,6,10,20,30]\n",
        "for y in x:\n",
        "  if y%2==0:\n",
        "    print(y)\n",
        "\n",
        "\n",
        "\n",
        "\n",
        "\n"
      ],
      "metadata": {
        "id": "GbYgZPk8P0aj",
        "outputId": "012f6d9f-e67f-45fd-cc83-3b87f96d9828",
        "colab": {
          "base_uri": "https://localhost:8080/"
        }
      },
      "execution_count": 52,
      "outputs": [
        {
          "output_type": "stream",
          "name": "stdout",
          "text": [
            "2\n",
            "6\n",
            "10\n",
            "20\n",
            "30\n"
          ]
        }
      ]
    },
    {
      "cell_type": "code",
      "source": [
        "x = [2,5,6,7,9,1,3,6,10,20,30]\n",
        "x.append([2,6,10,20,30])\n",
        "print(x)\n"
      ],
      "metadata": {
        "id": "Br2TGgQuQaFQ",
        "outputId": "64759c68-730e-4c4a-8b0d-aea2ae68584d",
        "colab": {
          "base_uri": "https://localhost:8080/"
        }
      },
      "execution_count": 60,
      "outputs": [
        {
          "output_type": "stream",
          "name": "stdout",
          "text": [
            "[2, 5, 6, 7, 9, 1, 3, 6, 10, 20, 30, [2, 6, 10, 20, 30]]\n"
          ]
        }
      ]
    },
    {
      "cell_type": "code",
      "source": [],
      "metadata": {
        "id": "AoSGmikFS9_7"
      },
      "execution_count": null,
      "outputs": []
    }
  ]
}